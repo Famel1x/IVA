{
  "cells": [
    {
      "cell_type": "markdown",
      "metadata": {
        "id": "BhwN0XQX4Icu"
      },
      "source": [
        "# Чат-бот, использующий модели Seq2Seq LSTM\n",
        "В этом блокноте модель seq2seq LSTM, используя функциональный API Keras, чтобы создать работающего чат-бота, который отвечал бы на задаваемые ему вопросы."
      ]
    },
    {
      "cell_type": "markdown",
      "metadata": {
        "id": "tm5g4WIG5ym2"
      },
      "source": [
        "## 1) Импорт библотек\n",
        "\n",
        "Мы импортируем [TensorFlow](https://www.tensorflow.org ) и наш любимый [Keras](https://www.tensorflow.org/guide/keras ). Кроме того, мы импортируем другие модули, которые помогают в определении слоев модели.\n",
        "\n",
        "\n",
        "\n",
        "\n"
      ]
    },
    {
      "cell_type": "code",
      "execution_count": 2,
      "metadata": {
        "id": "UgZHR8TO0lFF"
      },
      "outputs": [],
      "source": [
        "\n",
        "import numpy as np\n",
        "import tensorflow as tf\n",
        "import pickle\n",
        "from tensorflow.keras import layers , activations , models , preprocessing\n"
      ]
    },
    {
      "cell_type": "markdown",
      "metadata": {
        "id": "sxiGOLldKOQD"
      },
      "source": [
        "## 2) Предварительная обработка данных"
      ]
    },
    {
      "cell_type": "markdown",
      "metadata": {
        "id": "imkdw4os6FI4"
      },
      "source": [
        "### A) Создание датасета\n",
        "\n",
        "Из приведённого файла, создаём папку data с .yml фаёлами, названий категорий со следующей структурой.\n",
        "\n",
        "Название категории:\n",
        "- Вариант названия 1\n",
        "- Вариант названия 2\n",
        "\n",
        "Разговоры:\n",
        "- Вопрос 1?\n",
        "- - Ответ\n",
        "- Вопрос 2?\n",
        "- - Ответ\n",
        "- Вопрос 3?\n",
        "- - Ответ"
      ]
    },
    {
      "cell_type": "markdown",
      "metadata": {
        "id": "nF1mDKD_R6Os"
      },
      "source": [
        "### B) Считывание данных из файлов\n",
        "\n",
        "Мы анализируем каждый из файлов `.yaml`.\n",
        "\n",
        "* Соедините два или более предложений, если в ответе их два или более.\n",
        "* Удалите ненужные типы данных, которые образуются при синтаксическом анализе данных.\n",
        "* Добавьте `<START>` и `<END>` ко всем 'ответам'.\n",
        "* Создали `Токенизатор` и загрузили в него весь словарный запас (`вопросы` + `ответы`)."
      ]
    },
    {
      "cell_type": "code",
      "execution_count": 4,
      "metadata": {
        "id": "RzTBhga6MiV7"
      },
      "outputs": [
        {
          "name": "stdout",
          "output_type": "stream",
          "text": [
            "VOCAB SIZE : 1894\n"
          ]
        }
      ],
      "source": [
        "\n",
        "from tensorflow.keras import preprocessing , utils\n",
        "import os\n",
        "import yaml\n",
        "\n",
        "dir_path = 'data_example'\n",
        "files_list = os.listdir(dir_path + os.sep)\n",
        "\n",
        "questions = list()\n",
        "answers = list()\n",
        "\n",
        "for filepath in files_list:\n",
        "    stream = open( dir_path + os.sep + filepath , 'rb')\n",
        "    docs = yaml.safe_load(stream)\n",
        "    conversations = docs['conversations']\n",
        "    for con in conversations:\n",
        "        if len( con ) > 2 :\n",
        "            questions.append(con[0])\n",
        "            replies = con[ 1 : ]\n",
        "            ans = ''\n",
        "            for rep in replies:\n",
        "                ans += ' ' + rep\n",
        "            answers.append( ans )\n",
        "        elif len( con )> 1:\n",
        "            questions.append(con[0])\n",
        "            answers.append(con[1])\n",
        "\n",
        "answers_with_tags = list()\n",
        "for i in range( len( answers ) ):\n",
        "    if type( answers[i] ) == str:\n",
        "        answers_with_tags.append( answers[i] )\n",
        "    else:\n",
        "        questions.pop( i )\n",
        "\n",
        "answers = list()\n",
        "for i in range( len( answers_with_tags ) ) :\n",
        "    answers.append( '<START> ' + answers_with_tags[i] + ' <END>' )\n",
        "\n",
        "tokenizer = preprocessing.text.Tokenizer()\n",
        "tokenizer.fit_on_texts( questions + answers )\n",
        "VOCAB_SIZE = len( tokenizer.word_index )+1\n",
        "print( 'VOCAB SIZE : {}'.format( VOCAB_SIZE ))\n"
      ]
    },
    {
      "cell_type": "markdown",
      "metadata": {
        "id": "mzsaO1YvS-M8"
      },
      "source": [
        "\n",
        "### C) Подготовка данных для модели Seq2Seq\n",
        "\n",
        "Для нашей модели требуются три массива, а именно `encoder_input_data`, `decoder_input_data` и `decoder_output_data`.\n",
        "\n",
        "Для `encoder_input_data` :\n",
        "* Обозначьте токеном `questions`. Набеитие их до максимальной длины.\n",
        "\n",
        "Для `decoder_input_data` :\n",
        "* Обозначьте токеном `answers`. Набитие их до максимальной длины.\n",
        "\n",
        "Для `decoder_output_data` :\n",
        "\n",
        "* Обозначьте токеном `answers`. Удаляем первый элемент из всех `tokenized_answers`. Это `<START>` элемент, который мы добавили ранее.\n",
        "\n"
      ]
    },
    {
      "cell_type": "code",
      "execution_count": 5,
      "metadata": {
        "id": "a5AD9ooQKc33"
      },
      "outputs": [
        {
          "name": "stdout",
          "output_type": "stream",
          "text": [
            "(564, 22) 22\n",
            "(564, 74) 74\n",
            "(564, 74, 1894)\n"
          ]
        }
      ],
      "source": [
        "\n",
        "from gensim.models import Word2Vec\n",
        "import re\n",
        "\n",
        "vocab = []\n",
        "for word in tokenizer.word_index:\n",
        "    vocab.append( word )\n",
        "\n",
        "def tokenize( sentences ):\n",
        "    tokens_list = []\n",
        "    vocabulary = []\n",
        "    for sentence in sentences:\n",
        "        sentence = sentence.lower()\n",
        "        sentence = re.sub( '[^a-zA-Z]', ' ', sentence )\n",
        "        tokens = sentence.split()\n",
        "        vocabulary += tokens\n",
        "        tokens_list.append( tokens )\n",
        "    return tokens_list , vocabulary\n",
        "\n",
        "#p = tokenize( questions + answers )\n",
        "#model = Word2Vec( p[ 0 ] )\n",
        "\n",
        "#embedding_matrix = np.zeros( ( VOCAB_SIZE , 100 ) )\n",
        "#for i in range( len( tokenizer.word_index ) ):\n",
        "    #embedding_matrix[ i ] = model[ vocab[i] ]\n",
        "\n",
        "# encoder_input_data\n",
        "tokenized_questions = tokenizer.texts_to_sequences( questions )\n",
        "maxlen_questions = max( [ len(x) for x in tokenized_questions ] )\n",
        "padded_questions = preprocessing.sequence.pad_sequences( tokenized_questions , maxlen=maxlen_questions , padding='post' )\n",
        "encoder_input_data = np.array( padded_questions )\n",
        "print( encoder_input_data.shape , maxlen_questions )\n",
        "\n",
        "# decoder_input_data\n",
        "tokenized_answers = tokenizer.texts_to_sequences( answers )\n",
        "maxlen_answers = max( [ len(x) for x in tokenized_answers ] )\n",
        "padded_answers = preprocessing.sequence.pad_sequences( tokenized_answers , maxlen=maxlen_answers , padding='post' )\n",
        "decoder_input_data = np.array( padded_answers )\n",
        "print( decoder_input_data.shape , maxlen_answers )\n",
        "\n",
        "# decoder_output_data\n",
        "tokenized_answers = tokenizer.texts_to_sequences( answers )\n",
        "for i in range(len(tokenized_answers)) :\n",
        "    tokenized_answers[i] = tokenized_answers[i][1:]\n",
        "padded_answers = preprocessing.sequence.pad_sequences( tokenized_answers , maxlen=maxlen_answers , padding='post' )\n",
        "onehot_answers = utils.to_categorical( padded_answers , VOCAB_SIZE )\n",
        "decoder_output_data = np.array( onehot_answers )\n",
        "print( decoder_output_data.shape )\n"
      ]
    },
    {
      "cell_type": "markdown",
      "metadata": {
        "id": "4SwY3T139l19"
      },
      "source": [
        "## 3) Определение модели кодер-декодер\n",
        "Модель будет иметь слои встраивания, LSTM и Dense. Базовая конфигурация выглядит следующим образом.\n",
        "\n",
        "\n",
        "* 2 входных слоя : один для `encoder_input_data` и другой для `decoder_input_data`.\n",
        "* Слой встраивания: Для преобразования векторов токенов в плотные векторы фиксированного размера. ** ( Примечание: Не забудьте здесь аргумент `mask_zero=True` )**\n",
        "* Уровень LSTM: Обеспечивает доступ к долгосрочным и краткосрочным ячейкам.\n",
        "\n",
        "Работающий :\n",
        "\n",
        "1. `encoder_input_data` находится на уровне встраивания ( `encoder_embedding` ).\n",
        "2. Выходные данные слоя встраивания поступают в ячейку LSTM, которая генерирует 2 вектора состояния (`h` и `c`, которые являются `encoder_states`).\n",
        "3. Эти состояния задаются в ячейке LSTM декодера.\n",
        "4. Данные decoder_input_data поступают через уровень встраивания.\n",
        "5. Вложения выполняются в ячейку LSTM (в которой были состояния) для создания последующих действий.\n"
      ]
    },
    {
      "cell_type": "code",
      "execution_count": 6,
      "metadata": {
        "id": "-gUYtOwv21rt"
      },
      "outputs": [
        {
          "name": "stdout",
          "output_type": "stream",
          "text": [
            "Model: \"model\"\n",
            "__________________________________________________________________________________________________\n",
            " Layer (type)                Output Shape                 Param #   Connected to                  \n",
            "==================================================================================================\n",
            " input_1 (InputLayer)        [(None, 22)]                 0         []                            \n",
            "                                                                                                  \n",
            " input_2 (InputLayer)        [(None, 74)]                 0         []                            \n",
            "                                                                                                  \n",
            " embedding (Embedding)       (None, 22, 200)              378800    ['input_1[0][0]']             \n",
            "                                                                                                  \n",
            " embedding_1 (Embedding)     (None, 74, 200)              378800    ['input_2[0][0]']             \n",
            "                                                                                                  \n",
            " lstm (LSTM)                 [(None, 200),                320800    ['embedding[0][0]']           \n",
            "                              (None, 200),                                                        \n",
            "                              (None, 200)]                                                        \n",
            "                                                                                                  \n",
            " lstm_1 (LSTM)               [(None, 74, 200),            320800    ['embedding_1[0][0]',         \n",
            "                              (None, 200),                           'lstm[0][1]',                \n",
            "                              (None, 200)]                           'lstm[0][2]']                \n",
            "                                                                                                  \n",
            " dense (Dense)               (None, 74, 1894)             380694    ['lstm_1[0][0]']              \n",
            "                                                                                                  \n",
            "==================================================================================================\n",
            "Total params: 1779894 (6.79 MB)\n",
            "Trainable params: 1779894 (6.79 MB)\n",
            "Non-trainable params: 0 (0.00 Byte)\n",
            "__________________________________________________________________________________________________\n"
          ]
        }
      ],
      "source": [
        "\n",
        "encoder_inputs = tf.keras.layers.Input(shape=( maxlen_questions , ))\n",
        "encoder_embedding = tf.keras.layers.Embedding( VOCAB_SIZE, 200 , mask_zero=True ) (encoder_inputs)\n",
        "encoder_outputs , state_h , state_c = tf.keras.layers.LSTM( 200 , return_state=True )( encoder_embedding )\n",
        "encoder_states = [ state_h , state_c ]\n",
        "\n",
        "decoder_inputs = tf.keras.layers.Input(shape=( maxlen_answers ,  ))\n",
        "decoder_embedding = tf.keras.layers.Embedding( VOCAB_SIZE, 200 , mask_zero=True) (decoder_inputs)\n",
        "decoder_lstm = tf.keras.layers.LSTM( 200 , return_state=True , return_sequences=True )\n",
        "decoder_outputs , _ , _ = decoder_lstm ( decoder_embedding , initial_state=encoder_states )\n",
        "decoder_dense = tf.keras.layers.Dense( VOCAB_SIZE , activation=tf.keras.activations.softmax )\n",
        "output = decoder_dense ( decoder_outputs )\n",
        "\n",
        "model = tf.keras.models.Model([encoder_inputs, decoder_inputs], output )\n",
        "model.compile(optimizer=tf.keras.optimizers.RMSprop(), loss='categorical_crossentropy')\n",
        "\n",
        "model.summary()\n"
      ]
    },
    {
      "cell_type": "markdown",
      "metadata": {
        "id": "n9g_8sR7WWf3"
      },
      "source": [
        "## 4) Обучение модели\n",
        "Мы обучаем модель для нескольких эпох с помощью оптимизатора `RMSProp` и функции потерь `categorical_crossentropy`."
      ]
    },
    {
      "cell_type": "code",
      "execution_count": 7,
      "metadata": {
        "id": "N74NZnfo3Id-"
      },
      "outputs": [
        {
          "name": "stdout",
          "output_type": "stream",
          "text": [
            "Epoch 1/250\n",
            "19/19 [==============================] - 15s 179ms/step - loss: 7.3331\n",
            "Epoch 2/250\n",
            "19/19 [==============================] - 3s 178ms/step - loss: 6.0675\n",
            "Epoch 3/250\n",
            "19/19 [==============================] - 3s 181ms/step - loss: 5.8256\n",
            "Epoch 4/250\n",
            "19/19 [==============================] - 3s 175ms/step - loss: 5.7614\n",
            "Epoch 5/250\n",
            "19/19 [==============================] - 3s 179ms/step - loss: 5.7287\n",
            "Epoch 6/250\n",
            "19/19 [==============================] - 5s 247ms/step - loss: 5.6942\n",
            "Epoch 7/250\n",
            "19/19 [==============================] - 5s 248ms/step - loss: 5.6381\n",
            "Epoch 8/250\n",
            "19/19 [==============================] - 5s 241ms/step - loss: 5.5781\n",
            "Epoch 9/250\n",
            "19/19 [==============================] - 5s 240ms/step - loss: 5.5052\n",
            "Epoch 10/250\n",
            "19/19 [==============================] - 5s 243ms/step - loss: 5.4432\n",
            "Epoch 11/250\n",
            "19/19 [==============================] - 5s 245ms/step - loss: 5.3870\n",
            "Epoch 12/250\n",
            "19/19 [==============================] - 5s 263ms/step - loss: 5.3657\n",
            "Epoch 13/250\n",
            "19/19 [==============================] - 5s 265ms/step - loss: 5.3276\n",
            "Epoch 14/250\n",
            "19/19 [==============================] - 5s 271ms/step - loss: 5.3036\n",
            "Epoch 15/250\n",
            "19/19 [==============================] - 5s 258ms/step - loss: 5.2776\n",
            "Epoch 16/250\n",
            "19/19 [==============================] - 5s 276ms/step - loss: 5.2522\n",
            "Epoch 17/250\n",
            "19/19 [==============================] - 5s 267ms/step - loss: 5.2218\n",
            "Epoch 18/250\n",
            "19/19 [==============================] - 5s 268ms/step - loss: 5.1855\n",
            "Epoch 19/250\n",
            "19/19 [==============================] - 5s 264ms/step - loss: 5.1648\n",
            "Epoch 20/250\n",
            "19/19 [==============================] - 5s 276ms/step - loss: 5.1345\n",
            "Epoch 21/250\n",
            "19/19 [==============================] - 5s 273ms/step - loss: 5.1176\n",
            "Epoch 22/250\n",
            "19/19 [==============================] - 5s 266ms/step - loss: 5.0729\n",
            "Epoch 23/250\n",
            "19/19 [==============================] - 5s 253ms/step - loss: 5.0452\n",
            "Epoch 24/250\n",
            "19/19 [==============================] - 5s 238ms/step - loss: 5.0043\n",
            "Epoch 25/250\n",
            "19/19 [==============================] - 5s 246ms/step - loss: 4.9823\n",
            "Epoch 26/250\n",
            "19/19 [==============================] - 5s 248ms/step - loss: 4.9458\n",
            "Epoch 27/250\n",
            "19/19 [==============================] - 5s 241ms/step - loss: 4.9251\n",
            "Epoch 28/250\n",
            "19/19 [==============================] - 5s 257ms/step - loss: 4.8881\n",
            "Epoch 29/250\n",
            "19/19 [==============================] - 5s 238ms/step - loss: 4.8558\n",
            "Epoch 30/250\n",
            "19/19 [==============================] - 5s 240ms/step - loss: 4.8426\n",
            "Epoch 31/250\n",
            "19/19 [==============================] - 5s 240ms/step - loss: 4.8018\n",
            "Epoch 32/250\n",
            "19/19 [==============================] - 5s 245ms/step - loss: 4.7637\n",
            "Epoch 33/250\n",
            "19/19 [==============================] - 5s 240ms/step - loss: 4.7368\n",
            "Epoch 34/250\n",
            "19/19 [==============================] - 5s 240ms/step - loss: 4.7062\n",
            "Epoch 35/250\n",
            "19/19 [==============================] - 5s 238ms/step - loss: 4.6813\n",
            "Epoch 36/250\n",
            "19/19 [==============================] - 5s 241ms/step - loss: 4.6597\n",
            "Epoch 37/250\n",
            "19/19 [==============================] - 5s 239ms/step - loss: 4.6371\n",
            "Epoch 38/250\n",
            "19/19 [==============================] - 4s 236ms/step - loss: 4.6079\n",
            "Epoch 39/250\n",
            "19/19 [==============================] - 5s 241ms/step - loss: 4.5869\n",
            "Epoch 40/250\n",
            "19/19 [==============================] - 5s 237ms/step - loss: 4.5483\n",
            "Epoch 41/250\n",
            "19/19 [==============================] - 5s 241ms/step - loss: 4.4975\n",
            "Epoch 42/250\n",
            "19/19 [==============================] - 5s 237ms/step - loss: 4.4939\n",
            "Epoch 43/250\n",
            "19/19 [==============================] - 5s 239ms/step - loss: 4.4694\n",
            "Epoch 44/250\n",
            "19/19 [==============================] - 5s 242ms/step - loss: 4.4303\n",
            "Epoch 45/250\n",
            "19/19 [==============================] - 5s 246ms/step - loss: 4.4088\n",
            "Epoch 46/250\n",
            "19/19 [==============================] - 5s 245ms/step - loss: 4.3787\n",
            "Epoch 47/250\n",
            "19/19 [==============================] - 5s 242ms/step - loss: 4.3497\n",
            "Epoch 48/250\n",
            "19/19 [==============================] - 5s 241ms/step - loss: 4.3184\n",
            "Epoch 49/250\n",
            "19/19 [==============================] - 5s 239ms/step - loss: 4.2923\n",
            "Epoch 50/250\n",
            "19/19 [==============================] - 5s 249ms/step - loss: 4.2718\n",
            "Epoch 51/250\n",
            "19/19 [==============================] - 5s 264ms/step - loss: 4.2451\n",
            "Epoch 52/250\n",
            "19/19 [==============================] - 5s 273ms/step - loss: 4.1917\n",
            "Epoch 53/250\n",
            "19/19 [==============================] - 5s 242ms/step - loss: 4.1954\n",
            "Epoch 54/250\n",
            "19/19 [==============================] - 5s 256ms/step - loss: 4.1533\n",
            "Epoch 55/250\n",
            "19/19 [==============================] - 5s 265ms/step - loss: 4.1400\n",
            "Epoch 56/250\n",
            "19/19 [==============================] - 5s 259ms/step - loss: 4.1126\n",
            "Epoch 57/250\n",
            "19/19 [==============================] - 4s 235ms/step - loss: 4.1005\n",
            "Epoch 58/250\n",
            "19/19 [==============================] - 4s 231ms/step - loss: 4.0656\n",
            "Epoch 59/250\n",
            "19/19 [==============================] - 5s 260ms/step - loss: 4.0369\n",
            "Epoch 60/250\n",
            "19/19 [==============================] - 6s 290ms/step - loss: 4.0037\n",
            "Epoch 61/250\n",
            "19/19 [==============================] - 5s 249ms/step - loss: 3.9717\n",
            "Epoch 62/250\n",
            " 7/19 [==========>...................] - ETA: 3s - loss: 3.8903"
          ]
        }
      ],
      "source": [
        "\n",
        "model.fit([encoder_input_data , decoder_input_data], decoder_output_data, batch_size=30, epochs=250)\n",
        "model.save( 'model.h5' )\n"
      ]
    },
    {
      "cell_type": "markdown",
      "metadata": {
        "id": "3sOLQr0M-lAe"
      },
      "source": [
        "## 5) Определение моделей логического вывода\n",
        "Мы создали модели логического вывода, которые помогают предсказывать ответы.\n",
        "\n",
        "**Модель вывода кодера** : Принимает вопрос в качестве входных данных и выводит состояния LSTM ( `h` и `c`).\n",
        "\n",
        "**Модель вывода декодера** : Принимает 2 входных сигнала, один из которых - состояния LSTM ( выходные данные модели кодера ), второй - последовательности ввода ответа ( те, которые не имеют тега `<start>`). Он выведет ответы на вопрос, который мы ввели в модель кодера, и значения ее состояния."
      ]
    },
    {
      "cell_type": "code",
      "execution_count": null,
      "metadata": {
        "id": "1u5DE4qo3Mf2"
      },
      "outputs": [],
      "source": [
        "\n",
        "def make_inference_models():\n",
        "\n",
        "    encoder_model = tf.keras.models.Model(encoder_inputs, encoder_states)\n",
        "\n",
        "    decoder_state_input_h = tf.keras.layers.Input(shape=( 200 ,))\n",
        "    decoder_state_input_c = tf.keras.layers.Input(shape=( 200 ,))\n",
        "\n",
        "    decoder_states_inputs = [decoder_state_input_h, decoder_state_input_c]\n",
        "\n",
        "    decoder_outputs, state_h, state_c = decoder_lstm(\n",
        "        decoder_embedding , initial_state=decoder_states_inputs)\n",
        "    decoder_states = [state_h, state_c]\n",
        "    decoder_outputs = decoder_dense(decoder_outputs)\n",
        "    decoder_model = tf.keras.models.Model(\n",
        "        [decoder_inputs] + decoder_states_inputs,\n",
        "        [decoder_outputs] + decoder_states)\n",
        "\n",
        "    return encoder_model , decoder_model\n"
      ]
    },
    {
      "cell_type": "markdown",
      "metadata": {
        "id": "rxZp0ZRy-6dA"
      },
      "source": [
        "## 6) Общение с нашим чат-ботом\n",
        "\n",
        "Сначала мы определяем метод `str_to_tokens`, который преобразует вопросы `str` в целочисленные токены с заполнением."
      ]
    },
    {
      "cell_type": "code",
      "execution_count": null,
      "metadata": {
        "id": "5P_wDD554q9O"
      },
      "outputs": [],
      "source": [
        "\n",
        "def str_to_tokens( sentence : str ):\n",
        "    words = sentence.lower().split()\n",
        "    tokens_list = list()\n",
        "    for word in words:\n",
        "        tokens_list.append( tokenizer.word_index[ word ] )\n",
        "    return preprocessing.sequence.pad_sequences( [tokens_list] , maxlen=maxlen_questions , padding='post')\n"
      ]
    },
    {
      "cell_type": "markdown",
      "metadata": {
        "id": "djEPrfJBmZE-"
      },
      "source": [
        "1. Сначала мы берем вопрос в качестве входных данных и прогнозируем значения состояния, используя `enc_model`.\n",
        "2. Мы устанавливаем значения состояния в LSTM декодера.\n",
        "3. Затем мы генерируем последовательность, которая содержит элемент `<start>`.\n",
        "4. Мы вводим эту последовательность в `dec_model`.\n",
        "5. Мы заменяем элемент `<start>` элементом, который был предсказан `dec_model`, и обновляем значения состояния.\n",
        "6. Мы повторяем описанные выше шаги итеративно, пока не дойдем до тега `<end>` или максимальной длины ответа."
      ]
    },
    {
      "cell_type": "code",
      "execution_count": null,
      "metadata": {
        "id": "2zBmN8qB3O-e"
      },
      "outputs": [],
      "source": [
        "\n",
        "enc_model , dec_model = make_inference_models()\n",
        "\n",
        "for _ in range(10):\n",
        "    states_values = enc_model.predict( str_to_tokens( input( 'Enter question : ' ) ) )\n",
        "    empty_target_seq = np.zeros( ( 1 , 1 ) )\n",
        "    empty_target_seq[0, 0] = tokenizer.word_index['start']\n",
        "    stop_condition = False\n",
        "    decoded_translation = ''\n",
        "    while not stop_condition :\n",
        "        dec_outputs , h , c = dec_model.predict([ empty_target_seq ] + states_values )\n",
        "        sampled_word_index = np.argmax( dec_outputs[0, -1, :] )\n",
        "        sampled_word = None\n",
        "        for word , index in tokenizer.word_index.items() :\n",
        "            if sampled_word_index == index :\n",
        "                decoded_translation += ' {}'.format( word )\n",
        "                sampled_word = word\n",
        "\n",
        "        if sampled_word == 'end' or len(decoded_translation.split()) > maxlen_answers:\n",
        "            stop_condition = True\n",
        "\n",
        "        empty_target_seq = np.zeros( ( 1 , 1 ) )\n",
        "        empty_target_seq[ 0 , 0 ] = sampled_word_index\n",
        "        states_values = [ h , c ]\n",
        "\n",
        "    print( decoded_translation )\n"
      ]
    },
    {
      "cell_type": "markdown",
      "metadata": {
        "id": "0I4BtgwsgxNk"
      },
      "source": [
        "## 7) Преобразование в TFLite (необязательно)\n",
        "\n",
        "Мы можем преобразовать нашу модель seq2seq в модель TensorFlow Lite, чтобы использовать ее на периферийных устройствах."
      ]
    },
    {
      "cell_type": "code",
      "execution_count": null,
      "metadata": {
        "id": "MOS0M0uLhxN5"
      },
      "outputs": [],
      "source": [
        "\n",
        "!pip install tf-nightly\n"
      ]
    },
    {
      "cell_type": "code",
      "execution_count": null,
      "metadata": {
        "id": "wT8tyvpuhBOr"
      },
      "outputs": [],
      "source": [
        "\n",
        "converter = tf.lite.TFLiteConverter.from_keras_model( enc_model )\n",
        "buffer = converter.convert()\n",
        "open( 'enc_model.tflite' , 'wb' ).write( buffer )\n",
        "\n",
        "converter = tf.lite.TFLiteConverter.from_keras_model( dec_model )\n",
        "open( 'dec_model.tflite' , 'wb' ).write( buffer )\n"
      ]
    }
  ],
  "metadata": {
    "accelerator": "GPU",
    "colab": {
      "private_outputs": true,
      "provenance": [],
      "toc_visible": true
    },
    "kernelspec": {
      "display_name": "Python 3",
      "name": "python3"
    },
    "language_info": {
      "codemirror_mode": {
        "name": "ipython",
        "version": 3
      },
      "file_extension": ".py",
      "mimetype": "text/x-python",
      "name": "python",
      "nbconvert_exporter": "python",
      "pygments_lexer": "ipython3",
      "version": "3.11.5"
    }
  },
  "nbformat": 4,
  "nbformat_minor": 0
}
